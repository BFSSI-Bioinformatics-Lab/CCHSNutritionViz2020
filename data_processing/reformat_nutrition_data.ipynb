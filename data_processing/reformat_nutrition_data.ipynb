{
 "cells": [
  {
   "cell_type": "code",
   "execution_count": 49,
   "metadata": {},
   "outputs": [],
   "source": [
    "from pathlib import Path\n",
    "import pandas as pd"
   ]
  },
  {
   "cell_type": "code",
   "execution_count": 50,
   "metadata": {},
   "outputs": [],
   "source": [
    "# NOTES FOR REPAIRING DATA:\n",
    "\"\"\"\n",
    "- Need to replace age column values as follows:\n",
    "\n",
    "1-3 years --> 1-3\n",
    "4-8 years --> 4-8\n",
    "etc.\n",
    "\n",
    "- Must ignore the Vitamin C by smoking status file\n",
    "- There's a bug with the percentage protein file -> it has the wrong values in the nutrient column, says fat instead of the correct protein for many rows, but not all\n",
    "- Caffeine has an unusually low number of rows compared to the rest of the data because there is no 1-3 age group represented - fill this in with empty rows after processing\n",
    "- There are spaces at the end of \"Percentage of total energy intake from sugars\" and \"Percentage of total energy intake from saturated fats\" that must be removed\n",
    "\n",
    "\"\"\"\n",
    "\n",
    "data_dir = Path(\"/home/forest/PycharmProjects/CCHSNutritionViz/CCHS_Nutrition_Data_June2019\")"
   ]
  },
  {
   "cell_type": "code",
   "execution_count": 51,
   "metadata": {},
   "outputs": [],
   "source": [
    "data_files = list(data_dir.glob(\"*.xlsx\"))\n",
    "data_files = [f for f in data_files if 'ignore' not in f.name]"
   ]
  },
  {
   "cell_type": "code",
   "execution_count": 52,
   "metadata": {},
   "outputs": [],
   "source": [
    "df_list = []\n",
    "for f in data_files:\n",
    "    df = pd.read_excel(f, error_bad_lines=True)\n",
    "    df = df[df.Year.notnull()]\n",
    "    df = df.astype(\n",
    "        {\n",
    "            \"Year\": int,\n",
    "        })\n",
    "    \n",
    "    df['Both'] = pd.np.NaN\n",
    "    df['Male'] = pd.np.NaN\n",
    "    df['Female'] = pd.np.NaN\n",
    "    \n",
    "    for i, row in df.iterrows():\n",
    "        if row['Sex'] == 'Both':\n",
    "            df.at[i, 'Both'] = row['Mean']\n",
    "        elif row['Sex'] == 'Male':\n",
    "            df.at[i, 'Male'] = row['Mean']\n",
    "        elif row['Sex'] == 'Female':\n",
    "            df.at[i, 'Female'] = row['Mean']\n",
    "    df_list.append(df)\n",
    "    "
   ]
  },
  {
   "cell_type": "code",
   "execution_count": 53,
   "metadata": {},
   "outputs": [],
   "source": [
    "df = pd.concat(df_list, sort=False)"
   ]
  },
  {
   "cell_type": "code",
   "execution_count": 54,
   "metadata": {},
   "outputs": [],
   "source": [
    "df.to_csv(str(data_dir / 'AllData.csv'), sep=\",\",index=None)"
   ]
  },
  {
   "cell_type": "code",
   "execution_count": null,
   "metadata": {},
   "outputs": [],
   "source": [
    "# Verifying column values\n",
    "for d in data_files:\n",
    "    df = pd.read_excel(d, error_bad_lines=True)\n",
    "    df = df[df.Year.notnull()]\n",
    "    df = df.astype(\n",
    "        {\n",
    "            \"Year\": int,\n",
    "        })\n",
    "    \n",
    "    df['Both'] = pd.np.NaN\n",
    "    df['Male'] = pd.np.NaN\n",
    "    df['Female'] = pd.np.NaN\n",
    "    \n",
    "    for i, row in df.iterrows():\n",
    "        if row['Sex'] == 'Both':\n",
    "            df.at[i, 'Both'] = row['Mean']\n",
    "        elif row['Sex'] == 'Male':\n",
    "            df.at[i, 'Male'] = row['Mean']\n",
    "        elif row['Sex'] == 'Female':\n",
    "            df.at[i, 'Female'] = row['Mean']\n",
    "    nutrients = list(set(list(df['Nutrient/Item (unit)'].values)))\n",
    "    print(f\"{d.with_suffix('').name} : {nutrients}\")"
   ]
  },
  {
   "cell_type": "code",
   "execution_count": 48,
   "metadata": {},
   "outputs": [
    {
     "name": "stdout",
     "output_type": "stream",
     "text": [
      "Magnesium : 416\n",
      "Linolenic acid : 416\n",
      "Folate : 416\n",
      "Riboflavin : 416\n",
      "Vitamin C : 416\n",
      "Niacin : 416\n",
      "Caffeine : 416\n",
      "Total monounsaturated fats : 416\n",
      "Potassium : 416\n",
      "Calcium : 416\n",
      "Percentage of total energy intake from protein : 416\n",
      "Percentage of total energy intake from monounsaturated fats : 416\n",
      "Percentage of total energy intake from sugars : 416\n",
      "Total energy intake : 416\n",
      "Phosphorus : 416\n",
      "Percentage of total energy intake from carbohydrates : 416\n",
      "Percentage of total energy intake from linolenic fatty : 416\n",
      "Moisture : 416\n",
      "Vitamin A : 416\n",
      "Vitamin B6 : 416\n",
      "Linoleic fatty acid : 416\n",
      "Sodium : 416\n",
      "Total polyunsaturated fats : 416\n",
      "Protein : 416\n",
      "Naturally occurring folate : 416\n",
      "Iron intake : 416\n",
      "Total Saturated fats : 416\n",
      "Vitamin D : 416\n",
      "Total fats : 416\n",
      "Thiamin : 416\n",
      "Percentage of total energy intake from linoleic fatty : 416\n",
      "Cholesterol : 416\n",
      "Folacin : 416\n",
      "Percentage of total energy intake from polyunsaturated fats : 416\n",
      "Total Sugars : 416\n",
      "Vitamin B12 : 416\n",
      "Total carbohydrates : 416\n",
      "Percentage of total energy intake from saturated fats : 416\n",
      "Percentage of total energy intake from fat : 416\n",
      "Zinc : 416\n",
      "Total dietary fibre : 416\n"
     ]
    }
   ],
   "source": [
    "# Checking lengths\n",
    "for d in data_files:\n",
    "    df = pd.read_excel(d, error_bad_lines=True)\n",
    "    df = df[df.Year.notnull()]\n",
    "    df = df.astype(\n",
    "        {\n",
    "            \"Year\": int,\n",
    "        })\n",
    "    \n",
    "    df['Both'] = pd.np.NaN\n",
    "    df['Male'] = pd.np.NaN\n",
    "    df['Female'] = pd.np.NaN\n",
    "    \n",
    "    for i, row in df.iterrows():\n",
    "        if row['Sex'] == 'Both':\n",
    "            df.at[i, 'Both'] = row['Mean']\n",
    "        elif row['Sex'] == 'Male':\n",
    "            df.at[i, 'Male'] = row['Mean']\n",
    "        elif row['Sex'] == 'Female':\n",
    "            df.at[i, 'Female'] = row['Mean']\n",
    "    nutrients = list(set(list(df['Nutrient/Item (unit)'].values)))\n",
    "    print(f\"{d.with_suffix('').name} : {len(df)}\")"
   ]
  }
 ],
 "metadata": {
  "kernelspec": {
   "display_name": "Python 3",
   "language": "python",
   "name": "python3"
  },
  "language_info": {
   "codemirror_mode": {
    "name": "ipython",
    "version": 3
   },
   "file_extension": ".py",
   "mimetype": "text/x-python",
   "name": "python",
   "nbconvert_exporter": "python",
   "pygments_lexer": "ipython3",
   "version": "3.7.3"
  }
 },
 "nbformat": 4,
 "nbformat_minor": 4
}
