{
 "cells": [
  {
   "cell_type": "code",
   "execution_count": 1,
   "metadata": {},
   "outputs": [],
   "source": [
    "from pathlib import Path\n",
    "import pandas as pd\n",
    "import json\n"
   ]
  },
  {
   "cell_type": "code",
   "execution_count": 11,
   "metadata": {},
   "outputs": [],
   "source": [
    "# All of this data is just for Canada excluding territories\n",
    "\n",
    "repodir = Path(__file__).parents[1]\n",
    "datadir = repodir / \"docs_20201015/Data files/Distribution data from Cunye\"\n",
    "csv_files = list(datadir.glob(\"*/*.csv\"))\n",
    "nutrient_directories = list(datadir.glob(\"*\"))\n",
    "reference_file = repodir / \"data_process\" / \"raw_data\" / \"DistributionReferenceValues-EN.csv\"\n",
    "out_json = repodir / \"data_process\" / \"raw_data\" / \"DistributionReferenceValues-EN.json\""
   ]
  },
  {
   "cell_type": "code",
   "execution_count": 12,
   "metadata": {},
   "outputs": [
    {
     "data": {
      "text/plain": [
       "896"
      ]
     },
     "execution_count": 12,
     "metadata": {},
     "output_type": "execute_result"
    }
   ],
   "source": [
    "len(csv_files)"
   ]
  },
  {
   "cell_type": "code",
   "execution_count": 13,
   "metadata": {},
   "outputs": [
    {
     "name": "stdout",
     "output_type": "stream",
     "text": [
      "['10_Folate', '11_Vitamin_B12', '12_Total_carbohydrates', '13_Total_sugars', '14_VitaminC', '15_Zinc', '16_Magnesium', '17_VitaminA', '18_Percent_total_energy_from_carbohydrates', '19_Percent_total_energy_from_fats', '1_Calcium', '20_Percent_total_energy_from_protein', '21_Cholesterol', '22_Phosphorus', '23_VitaminB6', '24_Niacin', '25_Riboflavin', '26_Thiamin', '27_Percent_total_energy_from_linoleic_fatty', '28_Percent_total_energy_from_linolenic_fatty', '2_VitaminD', '3_Iron', '4_Sodium', '5_Potassium', '6_Percent_total_energy_from_saturated_fat', '7_Percent_total_energy_from_sugars', '8_Total_Energy', '9_Fibre']\n"
     ]
    }
   ],
   "source": [
    "print(sorted([x.name for x in nutrient_directories if x.is_dir()]))"
   ]
  },
  {
   "cell_type": "code",
   "execution_count": 14,
   "metadata": {},
   "outputs": [
    {
     "name": "stdout",
     "output_type": "stream",
     "text": [
      "28\n"
     ]
    }
   ],
   "source": [
    "nutrient_dict = {\n",
    "    '1_Calcium': 'Calcium (mg/d)',\n",
    "    '2_VitaminD': 'Vitamin D (mcg/d)',\n",
    "    '3_Iron': 'Iron (mg/d)',\n",
    "    '4_Sodium': 'Sodium (mg/d)',\n",
    "    '5_Potassium': 'Potassium (mg/d)',\n",
    "    '6_Percent_total_energy_from_saturated_fat': 'Percentage of total energy intake from saturated fats',\n",
    "    '7_Percent_total_energy_from_sugars': 'Percentage of total energy intake from sugars',\n",
    "    '8_Total_Energy': 'Total energy intake (kcal/d)',\n",
    "    '9_Fibre': 'Total dietary fibre (g/d)',\n",
    "    '10_Folate': 'Folate (DFE/d)',\n",
    "    '11_Vitamin_B12': 'Vitamin B12 (mcg/d)',\n",
    "    '12_Total_carbohydrates': 'Total carbohydrates (g/d)',\n",
    "    '13_Total_sugars': 'Total sugars (g/d)',\n",
    "    '14_VitaminC': 'Vitamin C (mg/d)',\n",
    "    '15_Zinc': 'Zinc (mg/d)',\n",
    "    '16_Magnesium': 'Magnesium (mg/d)',\n",
    "    '17_VitaminA': 'Vitamin A (RAE/d)',\n",
    "    '18_Percent_total_energy_from_carbohydrates': 'Percentage of total energy intake from carbohydrates',\n",
    "    '19_Percent_total_energy_from_fats': 'Percentage of total energy intake from fat',\n",
    "    '20_Percent_total_energy_from_protein': 'Percentage of total energy intake from protein',\n",
    "    '21_Cholesterol': 'Cholesterol (mg/d)',\n",
    "    '22_Phosphorus': 'Phosphorus (mg/d)',\n",
    "    '23_VitaminB6': 'Vitamin B6 (mg/d)',\n",
    "    '24_Niacin': 'Niacin (NE/d)',\n",
    "    '25_Riboflavin': 'Riboflavin (mg/d)',\n",
    "    '26_Thiamin': 'Thiamin (mg/d)',\n",
    "    '27_Percent_total_energy_from_linoleic_fatty': 'Percentage of total energy intake from linoleic acid',\n",
    "    '28_Percent_total_energy_from_linolenic_fatty': 'Percentage of total energy intake from linolenic acid'\n",
    "}\n",
    "print(len(nutrient_dict))"
   ]
  },
  {
   "cell_type": "code",
   "execution_count": 31,
   "metadata": {},
   "outputs": [],
   "source": [
    "def parse_nutrient_filename(f: Path):\n",
    "    fstripped = f.with_suffix(\"\").name\n",
    "    if \"Male\" in fstripped:\n",
    "        sex = \"Male\"\n",
    "        fstripped.replace(\"Male\",\"\")\n",
    "    elif \"Female\" in fstripped:\n",
    "        sex = \"Female\"\n",
    "    else:\n",
    "        sex = \"Both\"\n",
    "    fstripped = fstripped.replace(\"Male\",\"\").replace(\"Female\",\"\")\n",
    "    \n",
    "    if \"19_more\" in fstripped:\n",
    "        fstripped = fstripped.replace(\"19_more\", \"19 and over\")\n",
    "    elif \"71_more\" in fstripped:\n",
    "        fstripped = fstripped.replace(\"71_more\", \"71 and over\")\n",
    "    \n",
    "    components = fstripped.split(\"_\")\n",
    "    nutrient = nutrient_dict[f.parent.name]\n",
    "    code = components[0]\n",
    "    year = components[1].replace(\"cchs\",\"\")\n",
    "    group = components[2].replace(\"To\",\"-\").replace(\"years\",\"\")\n",
    "    \n",
    "    return nutrient, code, year, group, sex\n",
    "\n",
    "def parse_csv_to_df(csv: Path, nutrient: str, code: str, year: str, group: str, sex: str, subsample_n: int, ref_code: int):\n",
    "    df = pd.read_csv(csv, index_col=None)\n",
    "    df['Nutrient/Item (unit)'] = nutrient\n",
    "    df['Year'] = year\n",
    "    df['Reg_Prov'] = \"Canada excluding territories\"\n",
    "    df['Sex'] = sex\n",
    "    df['Age (years)'] = group\n",
    "    df['code'] = code\n",
    "    df['ref_code'] = ref_code\n",
    "    if subsample_n is not None:\n",
    "        df = subsample_df(df, subsample_n)\n",
    "    return df\n",
    "\n",
    "def subsample_df(df: pd.DataFrame, n: int):\n",
    "    # n is how many rows we want to skip\n",
    "    df = df.iloc[::n,:]\n",
    "    return df"
   ]
  },
  {
   "cell_type": "code",
   "execution_count": 29,
   "metadata": {},
   "outputs": [],
   "source": [
    "\"\"\"\n",
    "Coding for each unique group (e.g. combination of Nutrient/Sex/Age) is stored in the Ref-code column of ./distribution/DistributionReferenceValues-EN.csv\n",
    "\n",
    "Contents of the file are dumped to JSON in the following commands.\n",
    "\"\"\"\n",
    "ref_df = pd.read_csv(reference_file)\n",
    "ref_df_tiny = ref_df[['Ref-code', 'Adequacy-Value', 'Adequacy-Type', 'Excess-Value', 'Excess-Type']]\n",
    "val_col_name = 'Ref-code'\n",
    "with open(str(out_json), 'w') as f:\n",
    "    json.dump([{'Ref-code': i, 'metadata': {j: row[j] for j in ref_df_tiny.columns if j != val_col_name}, val_col_name: row[val_col_name]} for i, row in ref_df_tiny.iterrows()], f, indent=4)"
   ]
  },
  {
   "cell_type": "code",
   "execution_count": 36,
   "metadata": {},
   "outputs": [
    {
     "name": "stderr",
     "output_type": "stream",
     "text": [
      "/home/forest/miniconda3/lib/python3.7/site-packages/ipykernel_launcher.py:5: UserWarning: Boolean Series key will be reindexed to match DataFrame index.\n",
      "  \"\"\"\n"
     ]
    },
    {
     "data": {
      "text/html": [
       "<div>\n",
       "<style scoped>\n",
       "    .dataframe tbody tr th:only-of-type {\n",
       "        vertical-align: middle;\n",
       "    }\n",
       "\n",
       "    .dataframe tbody tr th {\n",
       "        vertical-align: top;\n",
       "    }\n",
       "\n",
       "    .dataframe thead th {\n",
       "        text-align: right;\n",
       "    }\n",
       "</style>\n",
       "<table border=\"1\" class=\"dataframe\">\n",
       "  <thead>\n",
       "    <tr style=\"text-align: right;\">\n",
       "      <th></th>\n",
       "      <th>x</th>\n",
       "      <th>y</th>\n",
       "      <th>Nutrient/Item (unit)</th>\n",
       "      <th>Year</th>\n",
       "      <th>Reg_Prov</th>\n",
       "      <th>Sex</th>\n",
       "      <th>Age (years)</th>\n",
       "      <th>code</th>\n",
       "      <th>ref_code</th>\n",
       "    </tr>\n",
       "  </thead>\n",
       "  <tbody>\n",
       "    <tr>\n",
       "      <th>23291</th>\n",
       "      <td>3.250310</td>\n",
       "      <td>0.048025</td>\n",
       "      <td>Riboflavin (mg/d)</td>\n",
       "      <td>2015</td>\n",
       "      <td>Canada excluding territories</td>\n",
       "      <td>Female</td>\n",
       "      <td>19-30</td>\n",
       "      <td>9</td>\n",
       "      <td>391</td>\n",
       "    </tr>\n",
       "    <tr>\n",
       "      <th>23292</th>\n",
       "      <td>3.400092</td>\n",
       "      <td>0.029968</td>\n",
       "      <td>Riboflavin (mg/d)</td>\n",
       "      <td>2015</td>\n",
       "      <td>Canada excluding territories</td>\n",
       "      <td>Female</td>\n",
       "      <td>19-30</td>\n",
       "      <td>9</td>\n",
       "      <td>391</td>\n",
       "    </tr>\n",
       "    <tr>\n",
       "      <th>23293</th>\n",
       "      <td>3.549873</td>\n",
       "      <td>0.013960</td>\n",
       "      <td>Riboflavin (mg/d)</td>\n",
       "      <td>2015</td>\n",
       "      <td>Canada excluding territories</td>\n",
       "      <td>Female</td>\n",
       "      <td>19-30</td>\n",
       "      <td>9</td>\n",
       "      <td>391</td>\n",
       "    </tr>\n",
       "    <tr>\n",
       "      <th>23294</th>\n",
       "      <td>3.699654</td>\n",
       "      <td>0.004211</td>\n",
       "      <td>Riboflavin (mg/d)</td>\n",
       "      <td>2015</td>\n",
       "      <td>Canada excluding territories</td>\n",
       "      <td>Female</td>\n",
       "      <td>19-30</td>\n",
       "      <td>9</td>\n",
       "      <td>391</td>\n",
       "    </tr>\n",
       "    <tr>\n",
       "      <th>23295</th>\n",
       "      <td>3.849435</td>\n",
       "      <td>0.000760</td>\n",
       "      <td>Riboflavin (mg/d)</td>\n",
       "      <td>2015</td>\n",
       "      <td>Canada excluding territories</td>\n",
       "      <td>Female</td>\n",
       "      <td>19-30</td>\n",
       "      <td>9</td>\n",
       "      <td>391</td>\n",
       "    </tr>\n",
       "  </tbody>\n",
       "</table>\n",
       "</div>"
      ],
      "text/plain": [
       "              x         y Nutrient/Item (unit)  Year  \\\n",
       "23291  3.250310  0.048025    Riboflavin (mg/d)  2015   \n",
       "23292  3.400092  0.029968    Riboflavin (mg/d)  2015   \n",
       "23293  3.549873  0.013960    Riboflavin (mg/d)  2015   \n",
       "23294  3.699654  0.004211    Riboflavin (mg/d)  2015   \n",
       "23295  3.849435  0.000760    Riboflavin (mg/d)  2015   \n",
       "\n",
       "                           Reg_Prov     Sex Age (years) code  ref_code  \n",
       "23291  Canada excluding territories  Female       19-30    9       391  \n",
       "23292  Canada excluding territories  Female       19-30    9       391  \n",
       "23293  Canada excluding territories  Female       19-30    9       391  \n",
       "23294  Canada excluding territories  Female       19-30    9       391  \n",
       "23295  Canada excluding territories  Female       19-30    9       391  "
      ]
     },
     "execution_count": 36,
     "metadata": {},
     "output_type": "execute_result"
    }
   ],
   "source": [
    "df_list = []\n",
    "subsample_n = 20  # e.g. take every 10th row (none or int > 0)\n",
    "for f in csv_files:\n",
    "    nutrient, code, year, group, sex = parse_nutrient_filename(f)\n",
    "    ref_code = ref_df[ref_df['Nutrient/Item (unit)'] == nutrient][ref_df['Sex'] == sex][ref_df['Age (years)'] == group]['Ref-code'].values[0]\n",
    "    df = parse_csv_to_df(f, nutrient, code, year, group, sex, subsample_n, ref_code)\n",
    "    df_list.append(df)\n",
    "master_df = pd.concat(df_list, ignore_index=True)\n",
    "master_df.tail()"
   ]
  },
  {
   "cell_type": "code",
   "execution_count": 39,
   "metadata": {},
   "outputs": [
    {
     "data": {
      "text/plain": [
       "array(['19-30', '9-13', '71 and over', '51-70', '1-3', '4-8',\n",
       "       '19 and over', '14-18', '31-50'], dtype=object)"
      ]
     },
     "execution_count": 39,
     "metadata": {},
     "output_type": "execute_result"
    }
   ],
   "source": [
    "master_df['Age (years)'].unique()"
   ]
  },
  {
   "cell_type": "code",
   "execution_count": 40,
   "metadata": {},
   "outputs": [],
   "source": [
    "# master_df['Age (years)'] = df['Age (years)'].replace(['-'], ' to ', regex=True)\n",
    "master_df.to_csv((repodir / \"static/data/distributions-en-20th.csv\"), index=None)"
   ]
  },
  {
   "cell_type": "code",
   "execution_count": null,
   "metadata": {},
   "outputs": [],
   "source": []
  }
 ],
 "metadata": {
  "kernelspec": {
   "display_name": "Python 3",
   "language": "python",
   "name": "python3"
  },
  "language_info": {
   "codemirror_mode": {
    "name": "ipython",
    "version": 3
   },
   "file_extension": ".py",
   "mimetype": "text/x-python",
   "name": "python",
   "nbconvert_exporter": "python",
   "pygments_lexer": "ipython3",
   "version": "3.7.3"
  }
 },
 "nbformat": 4,
 "nbformat_minor": 4
}